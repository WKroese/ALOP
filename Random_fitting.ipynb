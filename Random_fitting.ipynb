{
 "cells": [
  {
   "cell_type": "markdown",
   "metadata": {},
   "source": [
    "# The random way to find a good fit\n",
    "\n",
    "To get the likelihood of many observations, we need to multiply the individual likelihoods, so calculate $L=\\prod_i L_i$, or in log likelihood, sum over all likelihoods. If we also ignore the $\\ln \\sqrt{2\\pi} \\sigma_i$, which is just a constant, we have\n",
    "$$\n",
    "\\ln L = -\\frac{1}{2} \\sum_i \\left(\\frac{y_i-M_\\theta(x_i)}{\\sigma_i}\\right)^2 \n",
    "$$\n",
    "which you should recognise as $\\chi^2/2$. \n",
    "\n",
    "The simplest method of all to try to fit is to just try at random. Let us try this"
   ]
  },
  {
   "cell_type": "code",
   "execution_count": 11,
   "metadata": {
    "collapsed": true
   },
   "outputs": [],
   "source": [
    "import numpy as np\n",
    "import matplotlib.pyplot as plt\n",
    "%matplotlib inline"
   ]
  },
  {
   "cell_type": "code",
   "execution_count": 20,
   "metadata": {
    "collapsed": true
   },
   "outputs": [],
   "source": [
    "def lnL(yobs, dyobs, ymodel):\n",
    "    \"\"\"\n",
    "    Calculate the log likelihood of a model\n",
    "    \"\"\"\n",
    "    \n",
    "    return -0.5*np.sum((y-ymodel)**2/dyobs**2)"
   ]
  },
  {
   "cell_type": "markdown",
   "metadata": {},
   "source": [
    "## Create some fake data\n",
    "\n",
    "Make some data according to some function."
   ]
  },
  {
   "cell_type": "code",
   "execution_count": 14,
   "metadata": {
    "collapsed": true
   },
   "outputs": [],
   "source": [
    "def make_fake():\n",
    "    \n",
    "    # Make the random draws reproducible...\n",
    "    np.random.seed(100)\n",
    "    \n",
    "    x = np.random.uniform(low=-2, high=4, size=15)\n",
    "    y = x*0.5 + 4\n",
    "    dy = 0.4\n",
    "    y_obs = y + np.random.normal(0, dy, size=len(x))\n",
    "\n",
    "    return (x, y_obs, dy+np.zeros(len(x)))\n",
    "\n",
    "def show_fake(x, y, dy):\n",
    "    plt.scatter(x, y)\n",
    "    plt.errorbar(x, y, dy, fmt='none')"
   ]
  },
  {
   "cell_type": "code",
   "execution_count": 15,
   "metadata": {
    "collapsed": false
   },
   "outputs": [],
   "source": [
    "x, y, dy = make_fake()"
   ]
  },
  {
   "cell_type": "code",
   "execution_count": 16,
   "metadata": {
    "collapsed": false
   },
   "outputs": [
    {
     "data": {
      "image/png": "[encoded data removed]",
      "text/plain": [
       "<matplotlib.figure.Figure at 0x10de28a50>"
      ]
     },
     "metadata": {},
     "output_type": "display_data"
    }
   ],
   "source": [
    "show_fake(x, y, dy)"
   ]
  },
  {
   "cell_type": "markdown",
   "metadata": {},
   "source": [
    "## Try to find the values by random sampling\n",
    "\n",
    "Now let us say that we know that we are looking for a model with $y=a + bx$ and that we know that $a\\in [2, 6]$ and $b\\in [0, 1]$ (lucky us!). Let's see what we can do."
   ]
  },
  {
   "cell_type": "code",
   "execution_count": 17,
   "metadata": {
    "collapsed": true
   },
   "outputs": [],
   "source": [
    "def my_model(x, a, b):\n",
    "    return a+b*x\n",
    "\n",
    "def try_many(x, y, dy, a_range=[2, 6], b_range=[0, 1], n_mc=100):\n",
    "    \"\"\"\n",
    "    Draw random a and b values and calculate how well they do.\n",
    "    \"\"\"\n",
    "    \n",
    "    a_values = np.random.uniform(low=a_range[0], high=a_range[1], size=n_mc)\n",
    "    b_values = np.random.uniform(low=b_range[0], high=b_range[1], size=n_mc)\n",
    "    \n",
    "    # I'm using a loop for clarity - for speed you would not!\n",
    "    lnLvalues = np.zeros(n_mc)\n",
    "    for i in range(n_mc):\n",
    "        ymodel = a_values[i] + b_values[i]*x\n",
    "        lnLvalues[i] = lnL(y, dy, ymodel)\n",
    "        \n",
    "    return (a_values, b_values, lnLvalues)\n",
    "    \n",
    "    "
   ]
  },
  {
   "cell_type": "code",
   "execution_count": 31,
   "metadata": {
    "collapsed": true
   },
   "outputs": [],
   "source": [
    "a_s, b_s, lnL_s = try_many(x, y, dy, n_mc=20)"
   ]
  },
  {
   "cell_type": "code",
   "execution_count": 32,
   "metadata": {
    "collapsed": false
   },
   "outputs": [
    {
     "data": {
      "text/plain": [
       "<matplotlib.collections.PathCollection at 0x114e52850>"
      ]
     },
     "execution_count": 32,
     "metadata": {},
     "output_type": "execute_result"
    },
    {
     "data": {
      "image/png": "[encoded data removed]",
      "text/plain": [
       "<matplotlib.figure.Figure at 0x116ba0a10>"
      ]
     },
     "metadata": {},
     "output_type": "display_data"
    }
   ],
   "source": [
    "plt.scatter(a_s, lnL_s)"
   ]
  },
  {
   "cell_type": "markdown",
   "metadata": {},
   "source": [
    "## Create a 2D visualisation of this"
   ]
  },
  {
   "cell_type": "code",
   "execution_count": 27,
   "metadata": {
    "collapsed": true
   },
   "outputs": [],
   "source": [
    "def show2D(x, y, lnL):\n",
    "    fig, ax = plt.subplots(ncols=1, figsize=(10, 4))\n",
    "    fig.subplots_adjust(hspace=0.5, left=0.07, right=0.93)\n",
    "    \n",
    "    hb = ax.hexbin(x, y, C=lnL, gridsize=50, cmap='inferno',\n",
    "                   reduce_C_function=np.sum)\n",
    "    #ax.axis([xmin, xmax, ymin, ymax])\n",
    "    ax.set_title(\"Linear fit\")\n",
    "    cb = fig.colorbar(hb, ax=ax)\n",
    "    cb.set_label('log likelihood')"
   ]
  },
  {
   "cell_type": "code",
   "execution_count": 33,
   "metadata": {
    "collapsed": false
   },
   "outputs": [
    {
     "data": {
      "image/png": "[encoded data removed]",
      "text/plain": [
       "<matplotlib.figure.Figure at 0x114e7ab90>"
      ]
     },
     "metadata": {},
     "output_type": "display_data"
    }
   ],
   "source": [
    "show2D(a_s, b_s, lnL_s)"
   ]
  },
  {
   "cell_type": "code",
   "execution_count": null,
   "metadata": {
    "collapsed": true
   },
   "outputs": [],
   "source": []
  }
 ],
 "metadata": {
  "kernelspec": {
   "display_name": "Python 2",
   "language": "python",
   "name": "python2"
  },
  "language_info": {
   "codemirror_mode": {
    "name": "ipython",
    "version": 2
   },
   "file_extension": ".py",
   "mimetype": "text/x-python",
   "name": "python",
   "nbconvert_exporter": "python",
   "pygments_lexer": "ipython2",
   "version": "2.7.12"
  }
 },
 "nbformat": 4,
 "nbformat_minor": 0
}
