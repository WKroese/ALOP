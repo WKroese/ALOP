{
 "cells": [
  {
   "cell_type": "code",
   "execution_count": 196,
   "metadata": {},
   "outputs": [],
   "source": [
    "import numpy as np\n",
    "import astropy.io as ast\n",
    "from astropy.io import fits\n",
    "import matplotlib.pyplot as plt\n",
    "import os\n",
    "\n",
    "#Global Variables\n",
    "FOLDER = '20180424'\n",
    "XMIN = 750\n",
    "XMAX = 1350\n",
    "YMIN = 1700\n",
    "YMAX = 2300"
   ]
  },
  {
   "cell_type": "code",
   "execution_count": 197,
   "metadata": {},
   "outputs": [],
   "source": [
    "def open_runlog(directory):\n",
    "    for fname in os.listdir(directory):\n",
    "        if 'runlog' in fname:\n",
    "            info = np.loadtxt(directory + '/' + fname, dtype='str')\n",
    "            r_fname = info[:,0]\n",
    "            r_descr = info[:,1]\n",
    "            r_filter = info[:,-1]\n",
    "            r_int_time = info[:,-3]\n",
    "            return r_fname, r_descr, r_filter, r_int_time"
   ]
  },
  {
   "cell_type": "code",
   "execution_count": 198,
   "metadata": {},
   "outputs": [],
   "source": [
    "def sort(fname, descr, filters):\n",
    "    bias, flat_r, flat_V, trans6_r, trans6_V, trans7_r, trans7_V, trans4_r, trans4_V = [],[],[],[],[],[],[],[],[]\n",
    "    for i in range(len(fname)):\n",
    "        if descr[i]=='Bias':\n",
    "            bias.append(fname[i])\n",
    "            \n",
    "        elif descr[i]=='Sky':\n",
    "            if filters[i]=='r':\n",
    "                flat_r.append(fname[i])\n",
    "            else:\n",
    "                flat_V.append(fname[i])\n",
    "                \n",
    "        elif 'TRANS6' in descr[i]:\n",
    "            if filters[i]=='r':\n",
    "                trans6_r.append(fname[i])\n",
    "            else:\n",
    "                trans6_V.append(fname[i])\n",
    "                \n",
    "        elif descr[i]=='TRANS7':\n",
    "            if filters[i]=='r':\n",
    "                trans7_r.append(fname[i])\n",
    "            else:\n",
    "                trans7_V.append(fname[i])\n",
    "            \n",
    "        elif descr[i]=='TRANS4':\n",
    "            if filters[i]=='r':\n",
    "                trans4_r.append(fname[i])\n",
    "            else:\n",
    "                trans4_V.append(fname[i])\n",
    "    return bias, flat_V, flat_r, trans6_r, trans6_V, trans7_r, trans7_V, trans4_r, trans4_V"
   ]
  },
  {
   "cell_type": "code",
   "execution_count": 199,
   "metadata": {},
   "outputs": [],
   "source": [
    "def mean_bias(bias, directory):\n",
    "    Bias = np.zeros((YMAX-YMIN, XMAX-XMIN))\n",
    "    for filename in bias:\n",
    "        hdul = fits.open(directory+'/r'+filename+'.fit') \n",
    "        im = hdul[4].data[YMIN:YMAX, XMIN:XMAX]\n",
    "        hdul.close()\n",
    "        im = im.astype(float)\n",
    "        Bias += im\n",
    "    Bias /= len(bias)\n",
    "    return Bias"
   ]
  },
  {
   "cell_type": "code",
   "execution_count": 200,
   "metadata": {},
   "outputs": [],
   "source": [
    "def mean_flat_norm(flat, directory):\n",
    "    Flat = np.zeros((YMAX-YMIN, XMAX-XMIN))\n",
    "    for filename in flat:\n",
    "        hdul = fits.open(directory+'/r'+filename+'.fit') \n",
    "        \n",
    "        im = hdul[4].data[YMIN:YMAX, XMIN:XMAX]\n",
    "        exp_t = hdul[0].header['EXPTIME']\n",
    "        hdul.close()\n",
    "        im = im.astype(float)\n",
    "        im /= (np.max(im)*exp_t)\n",
    "        Flat += im\n",
    "    Flat /= len(flat)\n",
    "    return Flat"
   ]
  },
  {
   "cell_type": "code",
   "execution_count": 201,
   "metadata": {},
   "outputs": [],
   "source": [
    "# Uses mean normalized 'flat' and mean 'bias' to give the reduced data of 'image' (array of filenames of fits files)\n",
    "def reduc(image_fname, flat, bias, directory):\n",
    "    sciences = []\n",
    "    for filename in image_fname:\n",
    "        hdul = fits.open(directory+'/r'+filename+'.fit') \n",
    "        im = hdul[4].data[YMIN:YMAX, XMIN:XMAX]\n",
    "        exp_t = hdul[0].header['EXPTIME']\n",
    "        im = im.astype(float)\n",
    "        im -= bias\n",
    "        im /= (flat*exp_t)\n",
    "        sciences.append(im)\n",
    "    return sciences"
   ]
  },
  {
   "cell_type": "code",
   "execution_count": 202,
   "metadata": {},
   "outputs": [],
   "source": [
    "runlog_fname, runlog_descr, runlog_filter, runlog_int_time = open_runlog(FOLDER)\n",
    "bias, flat_V, flat_r, trans6_r, trans6_V, trans7_r, trans7_V, trans4_r, trans4_V = sort(runlog_fname, runlog_descr, runlog_filter)\n",
    "Bias = mean_bias(bias, FOLDER)\n",
    "Flat_r = mean_flat_norm(flat_r, FOLDER)\n",
    "Flat_V = mean_flat_norm(flat_V, FOLDER)\n",
    "sciences7_r = reduc(trans7_r, Flat_r, Bias, FOLDER)\n",
    "sciences7_V = reduc(trans7_V, Flat_V, Bias, FOLDER)\n",
    "sciences6_r = reduc(trans6_r, Flat_r, Bias, FOLDER)\n",
    "sciences6_V = reduc(trans6_V, Flat_V, Bias, FOLDER)\n",
    "sciences4_r = reduc(trans4_r, Flat_r, Bias, FOLDER)\n",
    "sciences4_V = reduc(trans4_V, Flat_V, Bias, FOLDER)"
   ]
  },
  {
   "cell_type": "code",
   "execution_count": 206,
   "metadata": {},
   "outputs": [
    {
     "data": {
      "image/png": "[encoded data removed]",
      "text/plain": [
       "<matplotlib.figure.Figure at 0xb956b38>"
      ]
     },
     "metadata": {},
     "output_type": "display_data"
    }
   ],
   "source": [
    "width = 10\n",
    "height = 10\n",
    "plt.figure(figsize=(width, height))\n",
    "\n",
    "plt.imshow(sciences4_r[0])\n",
    "plt.show()"
   ]
  },
  {
   "cell_type": "code",
   "execution_count": 204,
   "metadata": {},
   "outputs": [],
   "source": [
    "fits.writeto('test.fit', sciences4_r[0], overwrite=True)"
   ]
  },
  {
   "cell_type": "code",
   "execution_count": null,
   "metadata": {},
   "outputs": [],
   "source": []
  }
 ],
 "metadata": {
  "kernelspec": {
   "display_name": "Python 2",
   "language": "python",
   "name": "python2"
  },
  "language_info": {
   "codemirror_mode": {
    "name": "ipython",
    "version": 2
   },
   "file_extension": ".py",
   "mimetype": "text/x-python",
   "name": "python",
   "nbconvert_exporter": "python",
   "pygments_lexer": "ipython2",
   "version": "2.7.14"
  }
 },
 "nbformat": 4,
 "nbformat_minor": 2
}
